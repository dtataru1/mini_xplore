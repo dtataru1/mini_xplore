{
 "cells": [
  {
   "cell_type": "markdown",
   "id": "39ba9bb3",
   "metadata": {},
   "source": [
    "# X. Filtering\n",
    "\n",
    "In order to estimate the Thymio's position and velocity at a given time using various available measurements, we merge all this data using a Bayesian filter, in particular a Kalman filter, to obtain the best possible estimation with the lowest covariance possible.\n",
    "\n",
    "## X.1 State-space model\n",
    "\n",
    "The first step is therefore the definition of our state-space model (in the discrete domain), which can be written as follows:\n",
    "\n",
    "\n",
    "$$ x_{k+1} = A*x_k + q $$\n",
    "$$ y_k = C*x_k + r $$\n",
    "\n",
    "Where $ x_k = \\begin{pmatrix}x\\\\ v_x\\\\ y\\\\ v_y\\\\ \\theta\\\\ \\omega  \\end{pmatrix}$, \n",
    "$ A = \\begin{pmatrix}1&Ts&0&0&0&0\\\\ 0&1&0&0&0&0\\\\ 0&0&1&Ts&0&0\\\\ 0&0&0&1&0&0\\\\ 0&0&0&0&1&Ts\\\\ 0&0&0&0&0&1  \\end{pmatrix}$,\n",
    "$ y = \\begin{pmatrix}v_x\\\\ v_y\\\\ \\omega  \\end{pmatrix}$ if video camera is obstructed and\n",
    "$ y = \\begin{pmatrix}x\\\\y\\\\ \\theta\\\\v_x\\\\ v_y\\\\ \\omega  \\end{pmatrix}$ if video camera can detect the Thymio\n",
    "\n",
    "Therefore depending on the case C is a 3x6 or 6x6 matrix extracting given values, q is the disturbance with a covariance matrix Q and r is the measurement noise with covariance matrix r.\n",
    "\n",
    "The available measurements regarding the Thymio's speed are the wheel speeds, however we have to convert them to absolute x and y speeds as well as $ \\omega $ in order to not have non-linearities in our Kalman filter state-space model, which would need to be dealt using an Extended Kalman filter. Our approach seemed precise enough, considering that the camera gives much better measurements and that it is assumed that the camera would not be obstructed for more than a few seconds, and so our estimations remaind within a valid range. We use the rotation matrix shown during the course to perform the operation at the beginning of our update function:\n"
   ]
  },
  {
   "cell_type": "code",
   "execution_count": null,
   "id": "30eac3af",
   "metadata": {},
   "outputs": [],
   "source": [
    "motor_left_speed = variables[\"motor_left_speed\"]\n",
    "motor_right_speed = variables[\"motor_right_speed\"]\n",
    "speed_x = (speed_conv_factor*(motor_left_speed+motor_right_speed)/2.0) * np.cos(theta)\n",
    "speed_y = (speed_conv_factor*(motor_left_speed+motor_right_speed)/2.0) * np.sin(theta)\n",
    "speed_w = rot_conv_factor*(motor_right_speed-motor_left_speed)/(2.0)"
   ]
  },
  {
   "cell_type": "markdown",
   "id": "9a04a327",
   "metadata": {},
   "source": [
    "## X.2 Covariance matrices definition\n",
    "\n",
    "The next step in order to design the Kalman filter is the measurement of the noise and disturbance covariance matrices in order to estimate how precise is our model and how noisy are our measurements. Two main assumptions were made during this part:\n",
    "1. The covariance matrices are diagonal, meaning each measurement and disturbance is independent, which is not very accurate mathematically (as our speed measurements directly depend on the angle, and the camera is used for the three position measurements (x, y and $ \\theta $)\n",
    "2. The distributions are assumed Gaussian"
   ]
  },
  {
   "cell_type": "code",
   "execution_count": null,
   "id": "e1acca38",
   "metadata": {},
   "outputs": [],
   "source": []
  }
 ],
 "metadata": {
  "kernelspec": {
   "display_name": "Python 3 (ipykernel)",
   "language": "python",
   "name": "python3"
  },
  "language_info": {
   "codemirror_mode": {
    "name": "ipython",
    "version": 3
   },
   "file_extension": ".py",
   "mimetype": "text/x-python",
   "name": "python",
   "nbconvert_exporter": "python",
   "pygments_lexer": "ipython3",
   "version": "3.9.7"
  }
 },
 "nbformat": 4,
 "nbformat_minor": 5
}
