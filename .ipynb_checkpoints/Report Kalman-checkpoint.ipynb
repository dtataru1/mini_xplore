{
 "cells": [
  {
   "cell_type": "markdown",
   "id": "a5eba0da",
   "metadata": {},
   "source": [
    "# X. Filtering\n",
    "\n",
    "In order to estimate the Thymio's position and velocity at a given time using various available measurements, we merge all this data using a Bayesian filter, in particular a Kalman filter, to obtain the best possible estimation with the lowest covariance possible.\n",
    "\n",
    "## X.1 State-space model\n",
    "\n",
    "The first step is therefore the definition of our state-space model (in the discrete domain), which can be written as follows:\n",
    "\n",
    "\n",
    "x_{k+1} = A*x_k + q\n",
    "$$ y_k = C*x_k + r $$"
   ]
  },
  {
   "cell_type": "code",
   "execution_count": null,
   "id": "f75ba87d",
   "metadata": {},
   "outputs": [],
   "source": []
  },
  {
   "cell_type": "code",
   "execution_count": null,
   "id": "66cd0def",
   "metadata": {},
   "outputs": [],
   "source": []
  }
 ],
 "metadata": {
  "kernelspec": {
   "display_name": "Python 3 (ipykernel)",
   "language": "python",
   "name": "python3"
  },
  "language_info": {
   "codemirror_mode": {
    "name": "ipython",
    "version": 3
   },
   "file_extension": ".py",
   "mimetype": "text/x-python",
   "name": "python",
   "nbconvert_exporter": "python",
   "pygments_lexer": "ipython3",
   "version": "3.9.7"
  }
 },
 "nbformat": 4,
 "nbformat_minor": 5
}
